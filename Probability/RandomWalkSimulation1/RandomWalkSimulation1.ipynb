{
 "cells": [
  {
   "attachments": {},
   "cell_type": "markdown",
   "metadata": {},
   "source": [
    "# Cadenas de Markov\n",
    "## Simulación 1\n",
    "\n",
    "Python versión 3.9.13 en Jupyter notebooks."
   ]
  },
  {
   "cell_type": "code",
   "execution_count": 2,
   "metadata": {},
   "outputs": [],
   "source": [
    "# Importación de las paqueterías a utilizar.\n",
    "\n",
    "import numpy as np\n",
    "import matplotlib.pyplot as plt"
   ]
  },
  {
   "cell_type": "code",
   "execution_count": 3,
   "metadata": {},
   "outputs": [],
   "source": [
    "\"\"\"\n",
    "Función para generar la matriz de transición dada una probabilidad p.\n",
    "\n",
    "Parámetros:\n",
    "    p : float\n",
    "        Valor de la probabilidad de la matriz.\n",
    "\n",
    "Returns:\n",
    "    matrix : np.array\n",
    "        Matriz de transición.\n",
    "\"\"\"\n",
    "\n",
    "def trans_matrix(p):\n",
    "\n",
    "    matrix = np.array([\n",
    "        [1 - p, p, 0, 0],\n",
    "        [0, 0, 1 - p, p],\n",
    "        [1 - p, p, 0, 0],\n",
    "        [0, 1, 0, 0]\n",
    "        ])\n",
    "        \n",
    "    return(matrix)"
   ]
  },
  {
   "cell_type": "code",
   "execution_count": 4,
   "metadata": {},
   "outputs": [],
   "source": [
    "\"\"\"\n",
    "Función para simular una caminata aleatoria.\n",
    "\n",
    "Parámetros:\n",
    "    prob : float\n",
    "        Valor de la probabilidad de la matriz.\n",
    "    n : integer\n",
    "        Número de pasos a simular.\n",
    "    start_state : int\n",
    "        Elemento de inicio de la cadena.\n",
    "    graph : boolean\n",
    "        True si se quiere graficar la caminata, False en otro caso.\n",
    "\n",
    "Returns:\n",
    "    walk : list\n",
    "        Lista que describe la caminata aleatoria simulada.\n",
    "\"\"\"\n",
    "\n",
    "def random_walk(prob, n, start_state, graph):\n",
    "\n",
    "    # Variables auxiliares.\n",
    "    matrix = trans_matrix(prob)\n",
    "    previous_state = start_state\n",
    "    walk = [start_state]\n",
    "    time = n\n",
    "\n",
    "    # Loop para simular los n pasos.\n",
    "    while time:\n",
    "        current_state = np.random.choice([0, 1, 2, 3], p = matrix[previous_state])\n",
    "        walk.append(current_state)\n",
    "        previous_state = current_state\n",
    "        time -= 1\n",
    "\n",
    "    # Gráfica dependiente del parámetro graph.\n",
    "    if graph == True:\n",
    "        plt.plot(range(0, n + 1), walk, linestyle='--', marker='o', color = '#880808')\n",
    "        plt.xlabel('Tiempo') \n",
    "        plt.ylabel('Estado')\n",
    "        plt.yticks(range(0, 4))\n",
    "        plt.title(\"Caminata aleatoria\")\n",
    "\n",
    "    return(walk)"
   ]
  },
  {
   "cell_type": "code",
   "execution_count": 7,
   "metadata": {},
   "outputs": [
    {
     "name": "stdout",
     "output_type": "stream",
     "text": [
      "La caminata aleatoria para p = 0.6056442347682315 y estado inicial 2 es: [2, 0, 1, 2, 1, 2, 0, 1, 3, 1, 3] .\n"
     ]
    },
    {
     "data": {
      "image/png": "[encoded data removed]",
      "text/plain": [
       "<Figure size 432x288 with 1 Axes>"
      ]
     },
     "metadata": {
      "needs_background": "light"
     },
     "output_type": "display_data"
    }
   ],
   "source": [
    "# Visualización de resultados con probabilidad y estado inicial aleatorios. Correr la cell múltiples veces para ver distintos resultados.\n",
    "\n",
    "probability = np.random.random(1)[0]\n",
    "start_at = np.random.choice([0, 1, 2, 3])\n",
    "\n",
    "print('La caminata aleatoria para p =', probability, 'y estado inicial', start_at, 'es:', random_walk(probability, 10, start_at, True), '.')"
   ]
  },
  {
   "cell_type": "code",
   "execution_count": 8,
   "metadata": {},
   "outputs": [],
   "source": [
    "\"\"\"\n",
    "Función para iterar y conseguir los valores requeridos por el inciso c).\n",
    "\n",
    "Parámetros:\n",
    "    p : float\n",
    "        Valor de la probabilidad de la cadena.\n",
    "    M : integer\n",
    "        Número de pasos a utilizar.\n",
    "\n",
    "Returns:\n",
    "    Null\n",
    "\"\"\"\n",
    "\n",
    "def iteration(p, M):\n",
    "        complement = 0\n",
    "        for i in range(0,3):\n",
    "            reps = random_walk(p, M, i, False)[1:M + 1].count(i)\n",
    "            print('Con inicio en', i, ', hubo', reps, 'visitas al estado', i, '. El cociente buscado es' , '{:.3f}'.format(reps/M), '.') # Imprime el cociente a tres dígitos."
   ]
  },
  {
   "attachments": {},
   "cell_type": "markdown",
   "metadata": {},
   "source": [
    "Dada la distribución estacionaria encontrada en a) de\n",
    "$$\\pi(p)=\\left(\\frac{(1-p)^2}{1+p^2}, \\frac{p}{1+p^2}, \\frac{(1-p)p}{1+p^2}, \\frac{p^2}{1+p^2}\\right),$$\n",
    "se comparará con distintos valores de $p$."
   ]
  },
  {
   "cell_type": "code",
   "execution_count": 27,
   "metadata": {},
   "outputs": [],
   "source": [
    "\"\"\"\n",
    "Función para determinar la distribución estacionaria.\n",
    "\n",
    "Parámetros:\n",
    "    p : float\n",
    "        Valor de la probabilidad de la cadena.\n",
    "\n",
    "Returns:\n",
    "    stat : list\n",
    "        Lista con los valores de la distribución estacionaria para cada estado.\n",
    "\n",
    "\"\"\"\n",
    "\n",
    "def stationary(p):\n",
    "    stat = [((1-p)**2)/(1+p**2), p/(1+p**2), (p-p**2)/(1+p**2)]\n",
    "    return (stat)"
   ]
  },
  {
   "attachments": {},
   "cell_type": "markdown",
   "metadata": {},
   "source": [
    "Para $p = 0.5$:"
   ]
  },
  {
   "cell_type": "code",
   "execution_count": 28,
   "metadata": {},
   "outputs": [
    {
     "name": "stdout",
     "output_type": "stream",
     "text": [
      "Las distribuciones teóricas para p = 0.5 son [0.2, 0.4, 0.2]\n"
     ]
    }
   ],
   "source": [
    "# Visualización de las distribuciones teóricas.\n",
    "\n",
    "print('Las distribuciones teóricas para p = 0.5 son', stationary(0.5))"
   ]
  },
  {
   "attachments": {},
   "cell_type": "markdown",
   "metadata": {},
   "source": [
    "\n",
    "    Número de pasos M = 100:"
   ]
  },
  {
   "cell_type": "code",
   "execution_count": 9,
   "metadata": {},
   "outputs": [
    {
     "name": "stdout",
     "output_type": "stream",
     "text": [
      "Con inicio en 0 , hubo 25 visitas al estado 0 . El cociente buscado es 0.250 .\n",
      "Con inicio en 1 , hubo 40 visitas al estado 1 . El cociente buscado es 0.400 .\n",
      "Con inicio en 2 , hubo 15 visitas al estado 2 . El cociente buscado es 0.150 .\n"
     ]
    }
   ],
   "source": [
    "# Iteración para los valores requeridos.\n",
    "\n",
    "iteration(0.5, 100)"
   ]
  },
  {
   "attachments": {},
   "cell_type": "markdown",
   "metadata": {},
   "source": [
    "    \n",
    "    Número de pasos M = 1000:"
   ]
  },
  {
   "cell_type": "code",
   "execution_count": 10,
   "metadata": {},
   "outputs": [
    {
     "name": "stdout",
     "output_type": "stream",
     "text": [
      "Con inicio en 0 , hubo 204 visitas al estado 0 . El cociente buscado es 0.204 .\n",
      "Con inicio en 1 , hubo 404 visitas al estado 1 . El cociente buscado es 0.404 .\n",
      "Con inicio en 2 , hubo 205 visitas al estado 2 . El cociente buscado es 0.205 .\n"
     ]
    }
   ],
   "source": [
    "# Iteración para los valores requeridos.\n",
    "\n",
    "iteration(0.5, 1000)"
   ]
  },
  {
   "attachments": {},
   "cell_type": "markdown",
   "metadata": {},
   "source": [
    "Para $p = 0.8$:"
   ]
  },
  {
   "cell_type": "code",
   "execution_count": 30,
   "metadata": {},
   "outputs": [
    {
     "name": "stdout",
     "output_type": "stream",
     "text": [
      "Las distribuciones teóricas para p = 0.8 son [0.02439024390243901, 0.4878048780487805, 0.09756097560975605]\n"
     ]
    }
   ],
   "source": [
    "# Visualización de las distribuciones teóricas.\n",
    "\n",
    "print('Las distribuciones teóricas para p = 0.8 son', stationary(0.8))"
   ]
  },
  {
   "attachments": {},
   "cell_type": "markdown",
   "metadata": {},
   "source": [
    "\n",
    "    Número de pasos M = 100:"
   ]
  },
  {
   "cell_type": "code",
   "execution_count": 31,
   "metadata": {},
   "outputs": [
    {
     "name": "stdout",
     "output_type": "stream",
     "text": [
      "Con inicio en 0 , hubo 4 visitas al estado 0 . El cociente buscado es 0.040 .\n",
      "Con inicio en 1 , hubo 48 visitas al estado 1 . El cociente buscado es 0.480 .\n",
      "Con inicio en 2 , hubo 11 visitas al estado 2 . El cociente buscado es 0.110 .\n"
     ]
    }
   ],
   "source": [
    "# Iteración para los valores requeridos.\n",
    "\n",
    "iteration(0.8, 100)"
   ]
  },
  {
   "cell_type": "markdown",
   "metadata": {},
   "source": [
    "    \n",
    "    Número de pasos M = 1000:"
   ]
  },
  {
   "cell_type": "code",
   "execution_count": 32,
   "metadata": {},
   "outputs": [
    {
     "name": "stdout",
     "output_type": "stream",
     "text": [
      "Con inicio en 0 , hubo 26 visitas al estado 0 . El cociente buscado es 0.026 .\n",
      "Con inicio en 1 , hubo 490 visitas al estado 1 . El cociente buscado es 0.490 .\n",
      "Con inicio en 2 , hubo 106 visitas al estado 2 . El cociente buscado es 0.106 .\n"
     ]
    }
   ],
   "source": [
    "# Iteración para los valores requeridos.\n",
    "\n",
    "iteration(0.8, 1000)"
   ]
  },
  {
   "attachments": {},
   "cell_type": "markdown",
   "metadata": {},
   "source": [
    "Para $p = 0.03$:"
   ]
  },
  {
   "cell_type": "code",
   "execution_count": 33,
   "metadata": {},
   "outputs": [
    {
     "name": "stdout",
     "output_type": "stream",
     "text": [
      "Las distribuciones teóricas para p = 0.03 son [0.9400539514437007, 0.029973024278149667, 0.029073833549805174]\n"
     ]
    }
   ],
   "source": [
    "# Visualización de las distribuciones teóricas.\n",
    "\n",
    "print('Las distribuciones teóricas para p = 0.03 son', stationary(0.03))"
   ]
  },
  {
   "attachments": {},
   "cell_type": "markdown",
   "metadata": {},
   "source": [
    "\n",
    "    Número de pasos M = 100:"
   ]
  },
  {
   "cell_type": "code",
   "execution_count": 13,
   "metadata": {},
   "outputs": [
    {
     "name": "stdout",
     "output_type": "stream",
     "text": [
      "Con inicio en 0 , hubo 96 visitas al estado 0 . El cociente buscado es 0.960 .\n",
      "Con inicio en 1 , hubo 3 visitas al estado 1 . El cociente buscado es 0.030 .\n",
      "Con inicio en 2 , hubo 6 visitas al estado 2 . El cociente buscado es 0.060 .\n"
     ]
    }
   ],
   "source": [
    "# Iteración para los valores requeridos.\n",
    "\n",
    "iteration(0.03, 100)"
   ]
  },
  {
   "cell_type": "markdown",
   "metadata": {},
   "source": [
    "    \n",
    "    Número de pasos M = 1000:"
   ]
  },
  {
   "cell_type": "code",
   "execution_count": 14,
   "metadata": {},
   "outputs": [
    {
     "name": "stdout",
     "output_type": "stream",
     "text": [
      "Con inicio en 0 , hubo 936 visitas al estado 0 . El cociente buscado es 0.936 .\n",
      "Con inicio en 1 , hubo 26 visitas al estado 1 . El cociente buscado es 0.026 .\n",
      "Con inicio en 2 , hubo 22 visitas al estado 2 . El cociente buscado es 0.022 .\n"
     ]
    }
   ],
   "source": [
    "# Iteración para los valores requeridos.\n",
    "\n",
    "iteration(0.03, 1000)"
   ]
  },
  {
   "attachments": {},
   "cell_type": "markdown",
   "metadata": {},
   "source": [
    "Se confirma la aproximación a la distribución estacionaria teórica conforme hay más iteraciones para todos los valores de $p$ utilizados."
   ]
  }
 ],
 "metadata": {
  "kernelspec": {
   "display_name": "Python 3",
   "language": "python",
   "name": "python3"
  },
  "language_info": {
   "codemirror_mode": {
    "name": "ipython",
    "version": 3
   },
   "file_extension": ".py",
   "mimetype": "text/x-python",
   "name": "python",
   "nbconvert_exporter": "python",
   "pygments_lexer": "ipython3",
   "version": "3.9.13"
  },
  "orig_nbformat": 4,
  "vscode": {
   "interpreter": {
    "hash": "d992ce8fb73efcd2d4a3d10453532dde08c039c53a4e0ec942e9b155bd4b8aee"
   }
  }
 },
 "nbformat": 4,
 "nbformat_minor": 2
}
