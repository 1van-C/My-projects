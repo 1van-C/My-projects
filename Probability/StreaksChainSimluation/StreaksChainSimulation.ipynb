{
 "cells": [
  {
   "attachments": {},
   "cell_type": "markdown",
   "metadata": {},
   "source": [
    "# Cadena de rachas\n",
    "\n",
    "## Simulación\n",
    "\n",
    "Python versión 3.9.13 en Jupyter notebooks."
   ]
  },
  {
   "cell_type": "code",
   "execution_count": 2,
   "metadata": {},
   "outputs": [],
   "source": [
    "# Importación de las paqueterías a utilizar.\n",
    "\n",
    "import numpy as np\n",
    "import matplotlib.pyplot as plt"
   ]
  },
  {
   "cell_type": "code",
   "execution_count": 3,
   "metadata": {},
   "outputs": [],
   "source": [
    "\"\"\"\n",
    "Función para simular una caminata aleatoria de la cadena de rachas.\n",
    "\n",
    "Parámetros:\n",
    "    prob : float\n",
    "        Valor de la probabilidad del éxito.\n",
    "    n : integer\n",
    "        Número de pasos a simular.\n",
    "    start_state : int\n",
    "        Elemento de inicio de la cadena.\n",
    "    graph : boolean\n",
    "        True si se quiere graficar la caminata, False en otro caso.\n",
    "\n",
    "Returns:\n",
    "    walk : list\n",
    "        Lista que describe la caminata aleatoria simulada.\n",
    "\"\"\"\n",
    "\n",
    "def random_walk(prob, n, start_state, graph):\n",
    "\n",
    "    # Variables auxiliares.\n",
    "    previous_state = start_state\n",
    "    walk = [start_state]\n",
    "    time = n\n",
    "\n",
    "    # Loop para simular los n pasos.\n",
    "    while time:\n",
    "        bernoulli = np.random.choice([0, 1], p = [1 - prob, prob])\n",
    "        if bernoulli == 1:\n",
    "            current_state = previous_state + 1\n",
    "        else:\n",
    "            current_state = 0\n",
    "        walk.append(current_state)\n",
    "        previous_state = current_state\n",
    "        time -= 1\n",
    "\n",
    "    # Gráfica dependiente del parámetro graph.\n",
    "    if graph == True:\n",
    "        plt.plot(range(0, n + 1), walk, linestyle='--', marker='o', color = '#880808')\n",
    "        plt.xlabel('Tiempo') \n",
    "        plt.ylabel('Racha')\n",
    "        plt.yticks(range(0, max(walk) + 1))\n",
    "        plt.title(\"Caminata aleatoria de rachas\")\n",
    "\n",
    "    return(walk)"
   ]
  },
  {
   "cell_type": "code",
   "execution_count": 5,
   "metadata": {},
   "outputs": [
    {
     "name": "stdout",
     "output_type": "stream",
     "text": [
      "La caminata de rachas para p = 0.47761800458759507 y sin éxitos previos es: [0, 1, 0, 0, 0, 0, 0, 1, 2, 0, 1] .\n"
     ]
    },
    {
     "data": {
      "image/png": "[encoded data removed]",
      "text/plain": [
       "<Figure size 432x288 with 1 Axes>"
      ]
     },
     "metadata": {
      "needs_background": "light"
     },
     "output_type": "display_data"
    }
   ],
   "source": [
    "# Visualización de resultados con probabilidad aleatoria. Correr la cell múltiples veces para ver distintos resultados.\n",
    "\n",
    "probability = np.random.random(1)[0]\n",
    "\n",
    "print('La caminata de rachas para p =', probability, 'y sin éxitos previos es:', random_walk(probability, 10, 0, True), '.')"
   ]
  },
  {
   "cell_type": "code",
   "execution_count": 6,
   "metadata": {},
   "outputs": [],
   "source": [
    "\"\"\"\n",
    "Función para iterar y conseguir los valores requeridos por el inciso c).\n",
    "\n",
    "Parámetros:\n",
    "    p : float\n",
    "        Valor de la probabilidad de éxito.\n",
    "    M : integer\n",
    "        Número de pasos a utilizar.\n",
    "\n",
    "Returns:\n",
    "    Null\n",
    "\"\"\"\n",
    "\n",
    "def iteration(p, M):\n",
    "        for i in range(0,3):\n",
    "            reps = random_walk(p, M, i, False)[1:M + 1].count(i)\n",
    "            print('Con inicio en', i, ', hubo', reps, 'visitas al estado', i, '. El cociente buscado es' , '{:.3f}'.format(reps/M), '.') # Imprime el cociente a tres dígitos."
   ]
  },
  {
   "attachments": {},
   "cell_type": "markdown",
   "metadata": {},
   "source": [
    "De la serie geométrica para $M$ y\n",
    "$$\\frac{1}{M} = \\frac{1}{\\sum_{n=0}^{\\infty}p^n}=\\frac{1}{\\frac{1}{1-p}}=1-p$$\n",
    "se sigue que la distribución estacionaria en a) es\n",
    "$$\\pi(p)=\\left(1-p,\\text{ }[1-p]p,\\text{ }[1-p]p^2\\right).$$"
   ]
  },
  {
   "cell_type": "code",
   "execution_count": 7,
   "metadata": {},
   "outputs": [],
   "source": [
    "\"\"\"\n",
    "Función para determinar la distribución estacionaria.\n",
    "\n",
    "Parámetros:\n",
    "    p : float\n",
    "        Valor de la probabilidad de la cadena.\n",
    "\n",
    "Returns:\n",
    "    stat : list\n",
    "        Lista con los valores de la distribución estacionaria para cada estado.\n",
    "\n",
    "\"\"\"\n",
    "\n",
    "def stationary(p):\n",
    "    stat = [1 - p, (1 - p)*p, (1 - p)*p**2]\n",
    "    return (stat)"
   ]
  },
  {
   "cell_type": "markdown",
   "metadata": {},
   "source": [
    "Para $p = 0.5$:"
   ]
  },
  {
   "cell_type": "code",
   "execution_count": 8,
   "metadata": {},
   "outputs": [
    {
     "name": "stdout",
     "output_type": "stream",
     "text": [
      "Las distribuciones teóricas para p = 0.5 son [0.5, 0.25, 0.125]\n"
     ]
    }
   ],
   "source": [
    "# Visualización de las distribuciones teóricas.\n",
    "\n",
    "print('Las distribuciones teóricas para p = 0.5 son', stationary(0.5))"
   ]
  },
  {
   "cell_type": "markdown",
   "metadata": {},
   "source": [
    "\n",
    "    Número de pasos M = 100:"
   ]
  },
  {
   "cell_type": "code",
   "execution_count": 9,
   "metadata": {},
   "outputs": [
    {
     "name": "stdout",
     "output_type": "stream",
     "text": [
      "Con inicio en 0 , hubo 47 visitas al estado 0 . El cociente buscado es 0.470 .\n",
      "Con inicio en 1 , hubo 23 visitas al estado 1 . El cociente buscado es 0.230 .\n",
      "Con inicio en 2 , hubo 9 visitas al estado 2 . El cociente buscado es 0.090 .\n"
     ]
    }
   ],
   "source": [
    "# Iteración para los valores requeridos.\n",
    "\n",
    "iteration(0.5, 100)"
   ]
  },
  {
   "cell_type": "markdown",
   "metadata": {},
   "source": [
    "    \n",
    "    Número de pasos M = 1000:"
   ]
  },
  {
   "cell_type": "code",
   "execution_count": 10,
   "metadata": {},
   "outputs": [
    {
     "name": "stdout",
     "output_type": "stream",
     "text": [
      "Con inicio en 0 , hubo 489 visitas al estado 0 . El cociente buscado es 0.489 .\n",
      "Con inicio en 1 , hubo 231 visitas al estado 1 . El cociente buscado es 0.231 .\n",
      "Con inicio en 2 , hubo 127 visitas al estado 2 . El cociente buscado es 0.127 .\n"
     ]
    }
   ],
   "source": [
    "# Iteración para los valores requeridos.\n",
    "\n",
    "iteration(0.5, 1000)"
   ]
  },
  {
   "cell_type": "markdown",
   "metadata": {},
   "source": [
    "Para $p = 0.8$:"
   ]
  },
  {
   "cell_type": "code",
   "execution_count": 11,
   "metadata": {},
   "outputs": [
    {
     "name": "stdout",
     "output_type": "stream",
     "text": [
      "Las distribuciones teóricas para p = 0.8 son [0.19999999999999996, 0.15999999999999998, 0.128]\n"
     ]
    }
   ],
   "source": [
    "# Visualización de las distribuciones teóricas.\n",
    "\n",
    "print('Las distribuciones teóricas para p = 0.8 son', stationary(0.8))"
   ]
  },
  {
   "cell_type": "markdown",
   "metadata": {},
   "source": [
    "\n",
    "    Número de pasos M = 100:"
   ]
  },
  {
   "cell_type": "code",
   "execution_count": 12,
   "metadata": {},
   "outputs": [
    {
     "name": "stdout",
     "output_type": "stream",
     "text": [
      "Con inicio en 0 , hubo 20 visitas al estado 0 . El cociente buscado es 0.200 .\n",
      "Con inicio en 1 , hubo 18 visitas al estado 1 . El cociente buscado es 0.180 .\n",
      "Con inicio en 2 , hubo 14 visitas al estado 2 . El cociente buscado es 0.140 .\n"
     ]
    }
   ],
   "source": [
    "# Iteración para los valores requeridos.\n",
    "\n",
    "iteration(0.8, 100)"
   ]
  },
  {
   "cell_type": "markdown",
   "metadata": {},
   "source": [
    "    \n",
    "    Número de pasos M = 1000:"
   ]
  },
  {
   "cell_type": "code",
   "execution_count": 13,
   "metadata": {},
   "outputs": [
    {
     "name": "stdout",
     "output_type": "stream",
     "text": [
      "Con inicio en 0 , hubo 193 visitas al estado 0 . El cociente buscado es 0.193 .\n",
      "Con inicio en 1 , hubo 162 visitas al estado 1 . El cociente buscado es 0.162 .\n",
      "Con inicio en 2 , hubo 132 visitas al estado 2 . El cociente buscado es 0.132 .\n"
     ]
    }
   ],
   "source": [
    "# Iteración para los valores requeridos.\n",
    "\n",
    "iteration(0.8, 1000)"
   ]
  },
  {
   "cell_type": "markdown",
   "metadata": {},
   "source": [
    "Para $p = 0.03$:"
   ]
  },
  {
   "cell_type": "code",
   "execution_count": 14,
   "metadata": {},
   "outputs": [
    {
     "name": "stdout",
     "output_type": "stream",
     "text": [
      "Las distribuciones teóricas para p = 0.03 son [0.97, 0.029099999999999997, 0.000873]\n"
     ]
    }
   ],
   "source": [
    "# Visualización de las distribuciones teóricas.\n",
    "\n",
    "print('Las distribuciones teóricas para p = 0.03 son', stationary(0.03))"
   ]
  },
  {
   "cell_type": "markdown",
   "metadata": {},
   "source": [
    "\n",
    "    Número de pasos M = 100:"
   ]
  },
  {
   "cell_type": "code",
   "execution_count": 15,
   "metadata": {},
   "outputs": [
    {
     "name": "stdout",
     "output_type": "stream",
     "text": [
      "Con inicio en 0 , hubo 96 visitas al estado 0 . El cociente buscado es 0.960 .\n",
      "Con inicio en 1 , hubo 2 visitas al estado 1 . El cociente buscado es 0.020 .\n",
      "Con inicio en 2 , hubo 0 visitas al estado 2 . El cociente buscado es 0.000 .\n"
     ]
    }
   ],
   "source": [
    "# Iteración para los valores requeridos.\n",
    "\n",
    "iteration(0.03, 100)"
   ]
  },
  {
   "cell_type": "markdown",
   "metadata": {},
   "source": [
    "    \n",
    "    Número de pasos M = 1000:"
   ]
  },
  {
   "cell_type": "code",
   "execution_count": 16,
   "metadata": {},
   "outputs": [
    {
     "name": "stdout",
     "output_type": "stream",
     "text": [
      "Con inicio en 0 , hubo 977 visitas al estado 0 . El cociente buscado es 0.977 .\n",
      "Con inicio en 1 , hubo 33 visitas al estado 1 . El cociente buscado es 0.033 .\n",
      "Con inicio en 2 , hubo 0 visitas al estado 2 . El cociente buscado es 0.000 .\n"
     ]
    }
   ],
   "source": [
    "# Iteración para los valores requeridos.\n",
    "\n",
    "iteration(0.03, 1000)"
   ]
  },
  {
   "cell_type": "markdown",
   "metadata": {},
   "source": [
    "Se confirma la aproximación a la distribución estacionaria teórica conforme hay más iteraciones para todos los valores de $p$ utilizados."
   ]
  }
 ],
 "metadata": {
  "kernelspec": {
   "display_name": "Python 3",
   "language": "python",
   "name": "python3"
  },
  "language_info": {
   "codemirror_mode": {
    "name": "ipython",
    "version": 3
   },
   "file_extension": ".py",
   "mimetype": "text/x-python",
   "name": "python",
   "nbconvert_exporter": "python",
   "pygments_lexer": "ipython3",
   "version": "3.9.13"
  },
  "orig_nbformat": 4,
  "vscode": {
   "interpreter": {
    "hash": "d992ce8fb73efcd2d4a3d10453532dde08c039c53a4e0ec942e9b155bd4b8aee"
   }
  }
 },
 "nbformat": 4,
 "nbformat_minor": 2
}
